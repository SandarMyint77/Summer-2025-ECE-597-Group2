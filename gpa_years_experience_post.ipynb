{
  "cells": [
    {
      "cell_type": "markdown",
      "metadata": {
        "id": "view-in-github",
        "colab_type": "text"
      },
      "source": [
        "<a href=\"https://colab.research.google.com/github/SandarMyint77/Summer-2025-ECE-597-Group2/blob/main/gpa_years_experience_post.ipynb\" target=\"_parent\"><img src=\"https://colab.research.google.com/assets/colab-badge.svg\" alt=\"Open In Colab\"/></a>"
      ]
    },
    {
      "cell_type": "markdown",
      "metadata": {
        "id": "jCR1CIAkocqK"
      },
      "source": [
        "## Linear Regression from scratch\n",
        "\n",
        "The goal of this exercise is to implement the linear regression algorithm.\n",
        "The dataset is about predicting salary given gpa and years of experience.\n",
        "The steps to implement are as follows.  \n",
        "\n",
        "1.\tRead the data from a file (gpa_year_experience.csv)\n",
        "2.\tScale the attributes\n",
        "3.\tCompute the error at each iteration and save the error values in vector\n",
        "4.\tPlot the error vector as a curve in the end\n",
        "5.\tPredict a new instance.\n",
        "6.  Compare with SGDRegressor\n",
        "7.  Create polynomial features and predict new instance   "
      ]
    },
    {
      "cell_type": "code",
      "execution_count": null,
      "metadata": {
        "id": "FPBqt7GOocqN"
      },
      "outputs": [],
      "source": [
        "# import libraries\n",
        "import pandas as pd\n",
        "import numpy as np\n",
        "import matplotlib.pyplot as plt\n",
        "\n",
        "# ignore warnings\n",
        "import warnings\n",
        "warnings.filterwarnings('ignore')"
      ]
    },
    {
      "cell_type": "code",
      "execution_count": null,
      "metadata": {
        "id": "UjHJFSchocqR",
        "outputId": "7d6e0be4-85d3-4c10-93aa-d02e66d8a39c"
      },
      "outputs": [
        {
          "data": {
            "text/html": [
              "<div>\n",
              "<style scoped>\n",
              "    .dataframe tbody tr th:only-of-type {\n",
              "        vertical-align: middle;\n",
              "    }\n",
              "\n",
              "    .dataframe tbody tr th {\n",
              "        vertical-align: top;\n",
              "    }\n",
              "\n",
              "    .dataframe thead th {\n",
              "        text-align: right;\n",
              "    }\n",
              "</style>\n",
              "<table border=\"1\" class=\"dataframe\">\n",
              "  <thead>\n",
              "    <tr style=\"text-align: right;\">\n",
              "      <th></th>\n",
              "      <th>gpa</th>\n",
              "      <th>years_of_experience</th>\n",
              "      <th>salary</th>\n",
              "    </tr>\n",
              "  </thead>\n",
              "  <tbody>\n",
              "    <tr>\n",
              "      <th>0</th>\n",
              "      <td>70</td>\n",
              "      <td>1.0</td>\n",
              "      <td>50</td>\n",
              "    </tr>\n",
              "    <tr>\n",
              "      <th>1</th>\n",
              "      <td>80</td>\n",
              "      <td>2.0</td>\n",
              "      <td>55</td>\n",
              "    </tr>\n",
              "    <tr>\n",
              "      <th>2</th>\n",
              "      <td>65</td>\n",
              "      <td>2.0</td>\n",
              "      <td>45</td>\n",
              "    </tr>\n",
              "    <tr>\n",
              "      <th>3</th>\n",
              "      <td>70</td>\n",
              "      <td>2.5</td>\n",
              "      <td>60</td>\n",
              "    </tr>\n",
              "    <tr>\n",
              "      <th>4</th>\n",
              "      <td>65</td>\n",
              "      <td>2.7</td>\n",
              "      <td>58</td>\n",
              "    </tr>\n",
              "  </tbody>\n",
              "</table>\n",
              "</div>"
            ],
            "text/plain": [
              "   gpa  years_of_experience  salary\n",
              "0   70                  1.0      50\n",
              "1   80                  2.0      55\n",
              "2   65                  2.0      45\n",
              "3   70                  2.5      60\n",
              "4   65                  2.7      58"
            ]
          },
          "execution_count": 2,
          "metadata": {},
          "output_type": "execute_result"
        }
      ],
      "source": [
        "# load data and show first 5 rows\n",
        "data = pd.read_csv('https://raw.githubusercontent.com/thomouvic/SENG474/main/data/gpa_years_experience.csv')\n",
        "data.head()"
      ]
    },
    {
      "cell_type": "code",
      "execution_count": 3,
      "metadata": {
        "colab": {
          "base_uri": "https://localhost:8080/"
        },
        "id": "Qf7zl4PhocqT",
        "outputId": "1c04ceea-d962-42bc-e027-77fc26858555"
      },
      "outputs": [
        {
          "output_type": "execute_result",
          "data": {
            "text/plain": [
              "((25, 2), (25,))"
            ]
          },
          "metadata": {},
          "execution_count": 3
        }
      ],
      "source": [
        "# prepare data, split columns into X and y\n",
        "# X should be a numpy array of shape (m, n), use .values to convert from dataframe to numpy array\n",
        "# y should be a numpy array of shape (m,), use .values to convert from dataframe to numpy array\n",
        "\n",
        "import numpy as np\n",
        "# X: all input features (gpa and years_of_experience) as a numpy array of shape (m, n)\n",
        "X = data[['gpa', 'years_of_experience']].values\n",
        "\n",
        "# y: target variable (salary) as a numpy array of shape (m,)\n",
        "y = data['salary'].values\n",
        "\n",
        "# quick check of the shapes\n",
        "X.shape, y.shape\n",
        "\n",
        "\n"
      ]
    },
    {
      "cell_type": "code",
      "execution_count": 4,
      "metadata": {
        "colab": {
          "base_uri": "https://localhost:8080/"
        },
        "id": "AWNwN_ZMocqV",
        "outputId": "9b9c3877-8b07-47e4-e4f5-4ae6451655b1"
      },
      "outputs": [
        {
          "output_type": "execute_result",
          "data": {
            "text/plain": [
              "(25, 2)"
            ]
          },
          "metadata": {},
          "execution_count": 4
        }
      ],
      "source": [
        "# extract m and n from X using X.shape[0] to get m and X.shape[1] to get n\n",
        "\n",
        "m = X.shape[0]   # number of rows (samples)\n",
        "n = X.shape[1]   # number of columns (features)\n",
        "\n",
        "m, n\n"
      ]
    },
    {
      "cell_type": "code",
      "execution_count": 5,
      "metadata": {
        "colab": {
          "base_uri": "https://localhost:8080/"
        },
        "id": "9Dz7I-P8ocqX",
        "outputId": "d15da4d7-91fe-4c61-f118-092902c02fe1"
      },
      "outputs": [
        {
          "output_type": "execute_result",
          "data": {
            "text/plain": [
              "(25, 1)"
            ]
          },
          "metadata": {},
          "execution_count": 5
        }
      ],
      "source": [
        "# y should be a numpy array of shape (m, 1), use reshape(m, 1) to reshape y from (m,) to (m, 1)\n",
        "y = y.reshape(m, 1)\n",
        "\n",
        "# check the new shape\n",
        "y.shape\n"
      ]
    },
    {
      "cell_type": "code",
      "execution_count": 6,
      "metadata": {
        "colab": {
          "base_uri": "https://localhost:8080/"
        },
        "id": "0WNs2-q4ocqY",
        "outputId": "48cac26f-f3cf-4a0a-f5b3-2d71d0f0d0c4"
      },
      "outputs": [
        {
          "output_type": "stream",
          "name": "stdout",
          "text": [
            "(25, 2)\n",
            "[[0.3125  0.     ]\n",
            " [0.625   0.125  ]\n",
            " [0.15625 0.125  ]\n",
            " [0.3125  0.1875 ]\n",
            " [0.15625 0.2125 ]]\n"
          ]
        }
      ],
      "source": [
        "# normalize X using min-max scaler (sklearn.preprocessing.MinMaxScaler)\n",
        "from sklearn.preprocessing import MinMaxScaler\n",
        "\n",
        "# create the scaler object\n",
        "scaler = MinMaxScaler()\n",
        "\n",
        "# fit on X and transform it to the scaled version\n",
        "X = scaler.fit_transform(X)\n",
        "\n",
        "# check new shape and first few rows\n",
        "print(X.shape)\n",
        "print(X[:5])\n"
      ]
    },
    {
      "cell_type": "code",
      "execution_count": 7,
      "metadata": {
        "colab": {
          "base_uri": "https://localhost:8080/"
        },
        "id": "NKlAirKBocqb",
        "outputId": "31b73250-70a1-4082-e265-7a3923f7c1a2"
      },
      "outputs": [
        {
          "output_type": "stream",
          "name": "stdout",
          "text": [
            "(25, 3)\n",
            "[[1.      0.3125  0.     ]\n",
            " [1.      0.625   0.125  ]\n",
            " [1.      0.15625 0.125  ]\n",
            " [1.      0.3125  0.1875 ]\n",
            " [1.      0.15625 0.2125 ]]\n"
          ]
        }
      ],
      "source": [
        "# add dummy feature to X using scikit-learn dummy feature (sklearn.preprocessing.add_dummy_feature)\n",
        "from sklearn.preprocessing import add_dummy_feature\n",
        "\n",
        "# add a column of ones as the first column in X\n",
        "X = add_dummy_feature(X)\n",
        "\n",
        "# check the new shape and a few rows\n",
        "print(X.shape)\n",
        "print(X[:5])\n"
      ]
    },
    {
      "cell_type": "code",
      "execution_count": 8,
      "metadata": {
        "colab": {
          "base_uri": "https://localhost:8080/"
        },
        "id": "7kHXqP2Zocqc",
        "outputId": "bdfa492e-ef1a-49f8-f812-a48280056183"
      },
      "outputs": [
        {
          "output_type": "stream",
          "name": "stdout",
          "text": [
            "Shape of X: (25, 3)\n",
            "Shape of y: (25, 1)\n"
          ]
        }
      ],
      "source": [
        "# print shapes of X and y\n",
        "# X should be (m, n+1) and y should be (m, 1)\n",
        "\n",
        "print(\"Shape of X:\", X.shape)\n",
        "print(\"Shape of y:\", y.shape)\n"
      ]
    },
    {
      "cell_type": "code",
      "execution_count": 9,
      "metadata": {
        "colab": {
          "base_uri": "https://localhost:8080/",
          "height": 541
        },
        "id": "Rg3d1_ZLocqe",
        "outputId": "b0b29569-1560-4528-9c98-13feb4c28c9b"
      },
      "outputs": [
        {
          "output_type": "display_data",
          "data": {
            "text/plain": [
              "<Figure size 640x480 with 1 Axes>"
            ],
            "image/png": "[encoded data removed]"
          },
          "metadata": {}
        },
        {
          "output_type": "stream",
          "name": "stdout",
          "text": [
            "Final theta:\n",
            " [[44.69694899]\n",
            " [21.26803414]\n",
            " [25.80208124]]\n"
          ]
        }
      ],
      "source": [
        "eta = 0.1 # learning rate\n",
        "n_epochs = 10\n",
        "np.random.seed(42) # set random seed to 42 for reproducibility\n",
        "\n",
        "# create theta, of shape (n+1, 1) and initialize it to random values using np.random.randn\n",
        "\n",
        "E = [] # list to store errors at each epoch\n",
        "# compute error for initial theta and append to E\n",
        "\n",
        "# loop over n_epochs\n",
        "# for each epoch: compute gradients, update theta, compute error, append error to E\n",
        "\n",
        "# plot error vs epoch\n",
        "\n",
        "# print final theta\n",
        "import numpy as np\n",
        "import matplotlib.pyplot as plt\n",
        "\n",
        "eta = 0.1          # learning rate\n",
        "n_epochs = 10\n",
        "np.random.seed(42) # reproducibility\n",
        "\n",
        "# create theta of shape (n+1, 1) and initialize randomly\n",
        "theta = np.random.randn(X.shape[1], 1)\n",
        "\n",
        "def mse(X, y, th):\n",
        "    r = X @ th - y\n",
        "    return np.mean(r**2)\n",
        "\n",
        "E = []  # errors per epoch (MSE)\n",
        "\n",
        "# compute error for initial theta and append to E\n",
        "E.append(mse(X, y, theta))\n",
        "\n",
        "# loop over n_epochs: compute gradients, update theta, log error\n",
        "m = X.shape[0]\n",
        "for epoch in range(n_epochs):\n",
        "    residual = X @ theta - y                  # (m,1)\n",
        "    gradients = (2/m) * (X.T @ residual)      # (n+1,1)\n",
        "    theta = theta - eta * gradients\n",
        "    E.append(mse(X, y, theta))\n",
        "\n",
        "# plot error vs epoch\n",
        "plt.plot(range(len(E)), E, marker='o')\n",
        "plt.xlabel(\"Epoch\")\n",
        "plt.ylabel(\"MSE\")\n",
        "plt.title(\"Training Error vs Epoch (MSE)\")\n",
        "plt.grid(True)\n",
        "plt.show()\n",
        "\n",
        "# print final theta\n",
        "print(\"Final theta:\\n\", theta)\n"
      ]
    },
    {
      "cell_type": "code",
      "execution_count": 11,
      "metadata": {
        "colab": {
          "base_uri": "https://localhost:8080/"
        },
        "id": "icVkq3qvocqf",
        "outputId": "46442a5b-8abd-48be-a37e-f0f1ad67ac65"
      },
      "outputs": [
        {
          "output_type": "stream",
          "name": "stdout",
          "text": [
            "Predicted salary: 57.7937299648853\n"
          ]
        },
        {
          "output_type": "stream",
          "name": "stderr",
          "text": [
            "/tmp/ipython-input-3393825150.py:11: DeprecationWarning: Conversion of an array with ndim > 0 to a scalar is deprecated, and will error in future. Ensure you extract a single element from your array before performing this operation. (Deprecated NumPy 1.25.)\n",
            "  print(\"Predicted salary:\", float(predicted_salary))\n"
          ]
        }
      ],
      "source": [
        "# let's predict the salary for a person who has gpa=70 and years_of_experience=3.\n",
        "# create a numpy array x of shape (1, 2) with these values\n",
        "x = np.array([[70, 3]])\n",
        "# scale features using the same scaler we used earlier\n",
        "x_scaled = scaler.transform(x)\n",
        "# insert dummy feature using dummy feature function\n",
        "x_ready = add_dummy_feature(x_scaled)\n",
        "# Predict salary of x\n",
        "x = np.array([[70,3]])\n",
        "predicted_salary = x_ready @ theta\n",
        "print(\"Predicted salary:\", float(predicted_salary))"
      ]
    },
    {
      "cell_type": "code",
      "execution_count": 12,
      "metadata": {
        "colab": {
          "base_uri": "https://localhost:8080/"
        },
        "id": "_PuWF5rqocqg",
        "outputId": "05e58eec-a0da-4860-8a68-1f267c0b9798"
      },
      "outputs": [
        {
          "output_type": "stream",
          "name": "stdout",
          "text": [
            "SGDRegressor coefficients (theta): [47.89712373  8.46603425 37.12746914]\n",
            "SGDRegressor prediction: 59.82462671224613\n"
          ]
        }
      ],
      "source": [
        "# Let's compare with scikit-learn's SGDRegressor\n",
        "# use SGDRegressor from scikit-learn to fit the data\n",
        "# use max_iter=1000, eta0=0.1, random_state=42\n",
        "from sklearn.linear_model import SGDRegressor\n",
        "\n",
        "# y must be 1-D for sklearn estimators\n",
        "y_flat = y.ravel()\n",
        "\n",
        "# Option 1: use your current X (already has dummy column)\n",
        "sgd = SGDRegressor(\n",
        "    loss='squared_error',\n",
        "    learning_rate='constant',\n",
        "    eta0=0.1,\n",
        "    max_iter=1000,\n",
        "    random_state=42,\n",
        "    fit_intercept=False  # because X already has the dummy/bias feature\n",
        ")\n",
        "\n",
        "sgd.fit(X, y_flat)\n",
        "\n",
        "print(\"SGDRegressor coefficients (theta):\", sgd.coef_)\n",
        "\n",
        "# predict the same sample you prepared earlier\n",
        "sgd_pred = sgd.predict(x_ready)   # x_ready also contains the dummy feature\n",
        "print(\"SGDRegressor prediction:\", sgd_pred[0])\n"
      ]
    },
    {
      "cell_type": "code",
      "execution_count": 13,
      "metadata": {
        "colab": {
          "base_uri": "https://localhost:8080/"
        },
        "id": "8U-1AE5jocqh",
        "outputId": "d12e94ae-ed10-43a8-ed30-ec919086e7e0"
      },
      "outputs": [
        {
          "output_type": "stream",
          "name": "stdout",
          "text": [
            "Predicted salary with SGDRegressor: 59.82462671224613\n"
          ]
        }
      ],
      "source": [
        "# predict salary of x using sgd\n",
        "# predict salary of x using the trained SGDRegressor\n",
        "sgd_pred_salary = sgd.predict(x_ready)   # x_ready already scaled & has dummy feature\n",
        "print(\"Predicted salary with SGDRegressor:\", sgd_pred_salary[0])\n"
      ]
    },
    {
      "cell_type": "code",
      "execution_count": 14,
      "metadata": {
        "colab": {
          "base_uri": "https://localhost:8080/"
        },
        "id": "BQqLgWaSocqi",
        "outputId": "e7349a93-94c4-4e86-d601-fbaa4237df46"
      },
      "outputs": [
        {
          "output_type": "stream",
          "name": "stdout",
          "text": [
            "Predicted salary with polynomial (deg=2) + SGDRegressor: 59.54867684463215\n"
          ]
        }
      ],
      "source": [
        "# create polynomial features of degree 2 using scikit-learn PolynomialFeatures\n",
        "# create X_poly using fit_transform\n",
        "# create x_poly using transform\n",
        "# fit the data using SGDRegressor\n",
        "# predict salary of x using sgd\n",
        "from sklearn.preprocessing import PolynomialFeatures\n",
        "from sklearn.linear_model import SGDRegressor\n",
        "\n",
        "# 1) Base features: scale the two original features (no dummy here)\n",
        "X_base = scaler.transform(data[['gpa', 'years_of_experience']].values)\n",
        "x_base = scaler.transform(np.array([[70, 3]]))\n",
        "\n",
        "# 2) Create polynomial features (degree=2)\n",
        "poly = PolynomialFeatures(degree=2, include_bias=False)\n",
        "X_poly = poly.fit_transform(X_base)  # fit on training data, transform it\n",
        "x_poly = poly.transform(x_base)      # transform the new point the same way\n",
        "\n",
        "# 3) Fit SGDRegressor on the polynomial features\n",
        "sgd_poly = SGDRegressor(\n",
        "    loss='squared_error',\n",
        "    learning_rate='constant',\n",
        "    eta0=0.1,\n",
        "    max_iter=1000,\n",
        "    random_state=42,\n",
        "    fit_intercept=True     # intercept is learned; no dummy column used here\n",
        ")\n",
        "sgd_poly.fit(X_poly, y.ravel())\n",
        "\n",
        "# 4) Predict salary of x\n",
        "pred_salary_poly = sgd_poly.predict(x_poly)[0]\n",
        "print(\"Predicted salary with polynomial (deg=2) + SGDRegressor:\", pred_salary_poly)\n"
      ]
    }
  ],
  "metadata": {
    "kernelspec": {
      "display_name": "Python 3",
      "language": "python",
      "name": "python3"
    },
    "language_info": {
      "codemirror_mode": {
        "name": "ipython",
        "version": 3
      },
      "file_extension": ".py",
      "mimetype": "text/x-python",
      "name": "python",
      "nbconvert_exporter": "python",
      "pygments_lexer": "ipython3",
      "version": "3.9.13"
    },
    "colab": {
      "provenance": [],
      "include_colab_link": true
    }
  },
  "nbformat": 4,
  "nbformat_minor": 0
}